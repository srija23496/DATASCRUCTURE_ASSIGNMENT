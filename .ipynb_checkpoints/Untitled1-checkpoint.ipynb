{
 "cells": [
  {
   "cell_type": "code",
   "execution_count": 1,
   "id": "0aa303ba-ac5f-4f18-8928-72a8112df02e",
   "metadata": {},
   "outputs": [
    {
     "name": "stdin",
     "output_type": "stream",
     "text": [
      "given string:  hnb\n"
     ]
    },
    {
     "data": {
      "text/plain": [
       "'bnh'"
      ]
     },
     "execution_count": 1,
     "metadata": {},
     "output_type": "execute_result"
    }
   ],
   "source": [
    "#1. Write a code to reverse the string.\n",
    "string=input(\"given string: \")\n",
    "string[::-1]"
   ]
  },
  {
   "cell_type": "code",
   "execution_count": 2,
   "id": "70347ae1-5af3-4189-85f9-8deb8b67a2e5",
   "metadata": {},
   "outputs": [
    {
     "name": "stdin",
     "output_type": "stream",
     "text": [
      "given string:  ugu\n"
     ]
    },
    {
     "name": "stdout",
     "output_type": "stream",
     "text": [
      "2\n"
     ]
    }
   ],
   "source": [
    "#2. Write a code to count the no of vowels in a string.\n",
    "string1=input(\"given string: \")\n",
    "vowels=\"aeiouAEIOU\"\n",
    "count=sum(string1.count(vowel) for vowel in vowels)\n",
    "print(count)"
   ]
  },
  {
   "cell_type": "code",
   "execution_count": 3,
   "id": "9ea651a4-b058-456e-9b13-a8aafccd5205",
   "metadata": {},
   "outputs": [
    {
     "name": "stdin",
     "output_type": "stream",
     "text": [
      "given string:  ygugu\n"
     ]
    },
    {
     "name": "stdout",
     "output_type": "stream",
     "text": [
      "no\n"
     ]
    }
   ],
   "source": [
    "#3. write a code to check whether a given string is palindrome or not\n",
    "string3=input(\"given string: \")\n",
    "string4=string3[::-1]\n",
    "if string3==string4:\n",
    "    print(\"yes\")\n",
    "else:\n",
    "    print(\"no\")"
   ]
  },
  {
   "cell_type": "code",
   "execution_count": 4,
   "id": "dac185b6-d1c5-4d00-903d-d58525b07be8",
   "metadata": {},
   "outputs": [
    {
     "name": "stdin",
     "output_type": "stream",
     "text": [
      "write string1:  ugujg\n",
      "write string2:  ugug\n"
     ]
    },
    {
     "name": "stdout",
     "output_type": "stream",
     "text": [
      "no\n"
     ]
    }
   ],
   "source": [
    "#4. Write a code to check if two given strings are anagrams of each other.\n",
    "string5=input(\"write string1: \")\n",
    "string6=input(\"write string2: \")\n",
    "if sorted(string5)==sorted(string6):\n",
    "    print(\"yes\")\n",
    "else:\n",
    "    print(\"no\")"
   ]
  },
  {
   "cell_type": "code",
   "execution_count": 5,
   "id": "37eb2820-9b11-45a1-8a51-9f9018808342",
   "metadata": {},
   "outputs": [
    {
     "name": "stdin",
     "output_type": "stream",
     "text": [
      "enter a string:  jguilg\n",
      "enter a sunstring to find:  ygyu\n"
     ]
    },
    {
     "name": "stdout",
     "output_type": "stream",
     "text": [
      "all occurences are not present\n"
     ]
    }
   ],
   "source": [
    "#5 . Write a code to find all occurences of a given substring within another string.\n",
    "text1=input(\"enter a string: \")\n",
    "text2=input(\"enter a sunstring to find: \")\n",
    "if text1==text2:\n",
    "    print(\"all occurences are present\")\n",
    "else:\n",
    "        print(\"all occurences are not present\")"
   ]
  },
  {
   "cell_type": "code",
   "execution_count": 7,
   "id": "acc37d2b-d399-478a-a42a-ece55caaa56a",
   "metadata": {},
   "outputs": [
    {
     "data": {
      "text/plain": [
       "'a2b1c5a3'"
      ]
     },
     "execution_count": 7,
     "metadata": {},
     "output_type": "execute_result"
    }
   ],
   "source": [
    "#6.Write a code to perform basic string compression using the count of repeated chracter.\n",
    "def compress_string(input_string):\n",
    "    compressed_string = \"\"\n",
    "    count = 1\n",
    "    for i in range(len(input_string)):\n",
    "        # If current character is same as next one, increment count\n",
    "        if i < len(input_string) - 1 and input_string[i] == input_string[i + 1]:\n",
    "            count += 1\n",
    "        else:\n",
    "            # Append current character and its count to compressed_string\n",
    "            compressed_string += input_string[i] + str(count)\n",
    "            count = 1\n",
    "    # Return compressed string only if it's shorter than original string\n",
    "    return compressed_string if len(compressed_string) < len(input_string) else input_string\n",
    "\n",
    "# usage:\n",
    "compress_string(\"aabcccccaaa\")"
   ]
  },
  {
   "cell_type": "code",
   "execution_count": 8,
   "id": "d08c8093-d157-4111-8061-84d1d37d869a",
   "metadata": {},
   "outputs": [
    {
     "name": "stdout",
     "output_type": "stream",
     "text": [
      "True\n",
      "False\n"
     ]
    }
   ],
   "source": [
    "#7.Write a code to determine if a string has all unique chracter.\n",
    "def has_unique_characters(string):\n",
    "    # Create an empty set to store seen characters\n",
    "    seen = set()\n",
    "    \n",
    "    # Iterate through each character in the string\n",
    "    for char in string:\n",
    "        # If the character is already in the set, return False\n",
    "        if char in seen:\n",
    "            return False\n",
    "        # Otherwise, add the character to the set\n",
    "        seen.add(char)\n",
    "    \n",
    "    # If all characters are unique, return True\n",
    "    return True\n",
    "\n",
    "# Example usage:\n",
    "test_string = \"abcdefg\"\n",
    "print(has_unique_characters(test_string))  # Output: True\n",
    "\n",
    "test_string = \"hello\"\n",
    "print(has_unique_characters(test_string))  # Output: False\n"
   ]
  },
  {
   "cell_type": "code",
   "execution_count": 9,
   "id": "b0317a19-023a-4051-b041-1049476dbd2b",
   "metadata": {},
   "outputs": [
    {
     "name": "stdin",
     "output_type": "stream",
     "text": [
      "given string:  ugugj\n"
     ]
    },
    {
     "data": {
      "text/plain": [
       "'UGUGJ'"
      ]
     },
     "execution_count": 9,
     "metadata": {},
     "output_type": "execute_result"
    }
   ],
   "source": [
    "#8. write a code to cinvert a given string to uppercase or lowercase\n",
    "# check for uppercase\n",
    "string10=input(\"given string: \")\n",
    "string10.upper()"
   ]
  },
  {
   "cell_type": "code",
   "execution_count": 10,
   "id": "6a07a595-16ba-4105-9641-57e901dddb1a",
   "metadata": {},
   "outputs": [
    {
     "name": "stdin",
     "output_type": "stream",
     "text": [
      "given string:  hghj\n"
     ]
    },
    {
     "data": {
      "text/plain": [
       "'hghj'"
      ]
     },
     "execution_count": 10,
     "metadata": {},
     "output_type": "execute_result"
    }
   ],
   "source": [
    "#check for lowecase.\n",
    "string11=input(\"given string: \")\n",
    "string11.lower()"
   ]
  },
  {
   "cell_type": "code",
   "execution_count": 11,
   "id": "523ff53b-de70-40d4-9627-60b03255b8f2",
   "metadata": {},
   "outputs": [
    {
     "name": "stdin",
     "output_type": "stream",
     "text": [
      "given string:  jhghj\n"
     ]
    },
    {
     "name": "stdout",
     "output_type": "stream",
     "text": [
      "5\n"
     ]
    }
   ],
   "source": [
    "#9. write a code to count the no of words in a string.\n",
    "string12=input(\"given string: \")\n",
    "count=sum(string12.count(string12) for string in string12)\n",
    "print(count)"
   ]
  },
  {
   "cell_type": "code",
   "execution_count": 12,
   "id": "f56af973-1ce7-405a-a47f-61284ad49c88",
   "metadata": {},
   "outputs": [],
   "source": [
    "#10. Write a code to concentanate two strings without the + oprator.\n",
    "string13=\"bye \"\n",
    "string14=\"world \"\n",
    "string15=\"\".join([string13,string14])\n",
    "             "
   ]
  },
  {
   "cell_type": "code",
   "execution_count": 13,
   "id": "391e7f7a-a649-4503-b25a-f8fafe663231",
   "metadata": {},
   "outputs": [
    {
     "data": {
      "text/plain": [
       "'bye world '"
      ]
     },
     "execution_count": 13,
     "metadata": {},
     "output_type": "execute_result"
    }
   ],
   "source": [
    "string15"
   ]
  },
  {
   "cell_type": "code",
   "execution_count": 14,
   "id": "ad6f4b91-c97e-404a-b5ba-73cfd6a326c4",
   "metadata": {},
   "outputs": [
    {
     "name": "stdout",
     "output_type": "stream",
     "text": [
      "[1, 2, 3, 4, 4, 5, 6, 6, 6]\n",
      "[1, 2, 3, 4, 4, 5, 6, 6]\n",
      "[1, 2, 3, 4, 4, 5, 6]\n",
      "[1, 2, 3, 4, 4, 5]\n"
     ]
    }
   ],
   "source": [
    "#11. write a code to remove all occurences of a specific element of a list.\n",
    "list=[1,2,3,4,4,5,6,6,6,6]\n",
    "# for removing all the occurences of 6\n",
    "word=list.count(6)\n",
    "for i in range(word):\n",
    "    list.remove(6)\n",
    "    print(list)"
   ]
  },
  {
   "cell_type": "code",
   "execution_count": 15,
   "id": "0d00537f-6fae-47e6-b0dc-9214cd5c7f4d",
   "metadata": {},
   "outputs": [
    {
     "data": {
      "text/plain": [
       "8"
      ]
     },
     "execution_count": 15,
     "metadata": {},
     "output_type": "execute_result"
    }
   ],
   "source": [
    "#12. Impliment a code to find the second largest number in a given list oif integer.\n",
    "list1=[1,2,4,7,6,8,5,9]\n",
    "list1.sort()\n",
    "list1[-2]\n"
   ]
  },
  {
   "cell_type": "code",
   "execution_count": 16,
   "id": "f4f1dfe3-0151-4bf2-8d97-50a232246bc8",
   "metadata": {},
   "outputs": [],
   "source": [
    "#13.Create a code to count the occurence of each element in a list and retrurn a dictionary with element as keys and counts as values.\n",
    "\n",
    "list2=[1,2,3,4,4,5,6,6,6,7]\n",
    "num_element={element:list2.count(element) for element in list2}"
   ]
  },
  {
   "cell_type": "code",
   "execution_count": 17,
   "id": "855586ed-975e-46d6-b2b2-0ba1bb2f009f",
   "metadata": {},
   "outputs": [
    {
     "data": {
      "text/plain": [
       "{1: 1, 2: 1, 3: 1, 4: 2, 5: 1, 6: 3, 7: 1}"
      ]
     },
     "execution_count": 17,
     "metadata": {},
     "output_type": "execute_result"
    }
   ],
   "source": [
    "num_element"
   ]
  },
  {
   "cell_type": "code",
   "execution_count": 18,
   "id": "9d596831-a7db-44fc-9022-f11537575b5b",
   "metadata": {},
   "outputs": [],
   "source": [
    "#14.Write a code to reverse a list without using inbuilt reverse function.\n",
    "def reverse_list(lst):\n",
    "    left, right = 0, len(lst) - 1\n",
    "    while left < right:\n",
    "        lst[left], lst[right] = lst[right], lst[left]\n",
    "        left += 1\n",
    "        right -= 1"
   ]
  },
  {
   "cell_type": "code",
   "execution_count": 19,
   "id": "a0d7413c-5885-4ae4-b3e5-1c33ecbbba74",
   "metadata": {},
   "outputs": [
    {
     "name": "stdout",
     "output_type": "stream",
     "text": [
      "Reversed list: [5, 4, 3, 2, 1]\n"
     ]
    }
   ],
   "source": [
    "my_list = [1, 2, 3, 4, 5]\n",
    "reverse_list(my_list)\n",
    "print(\"Reversed list:\", my_list)"
   ]
  },
  {
   "cell_type": "code",
   "execution_count": 20,
   "id": "3028ea05-1c59-4269-bba9-81a87f8ea727",
   "metadata": {},
   "outputs": [],
   "source": [
    "#15.Impliment a code to find and remove duplicates from a list while preserving the original order of elements.\n",
    "def remove_duplicates(lst):\n",
    "    seen = set()\n",
    "    result = []\n",
    "    for item in lst:\n",
    "        if item not in seen:\n",
    "            seen.add(item)\n",
    "            result.append(item)\n",
    "    return result"
   ]
  },
  {
   "cell_type": "code",
   "execution_count": 21,
   "id": "9003d680-880d-4ada-80b2-ae9015f3fdd4",
   "metadata": {},
   "outputs": [
    {
     "name": "stdout",
     "output_type": "stream",
     "text": [
      "List with duplicates removed: [1, 2, 3, 4, 5]\n"
     ]
    }
   ],
   "source": [
    "my_list = [1, 2, 3, 2, 4, 3, 5]\n",
    "unique_list = remove_duplicates(my_list)\n",
    "print(\"List with duplicates removed:\", unique_list)"
   ]
  },
  {
   "cell_type": "code",
   "execution_count": 22,
   "id": "4f5dbc5e-3762-4876-afdc-403d251e0d07",
   "metadata": {},
   "outputs": [],
   "source": [
    "#16.create a code to check if a given list is sorted(either in ascending order or desending) or not.\n",
    "def is_sorted(lst):\n",
    "    # Check for ascending order\n",
    "    if all(lst[i] <= lst[i + 1] for i in range(len(lst) - 1)):\n",
    "        return \"Ascending\"\n",
    "    # Check for descending order\n",
    "    elif all(lst[i] >= lst[i + 1] for i in range(len(lst) - 1)):\n",
    "        return \"Descending\"\n",
    "    else:\n",
    "        return \"Unsorted\""
   ]
  },
  {
   "cell_type": "code",
   "execution_count": 23,
   "id": "adf768a0-fd8a-41de-b982-9bd27b4300dc",
   "metadata": {},
   "outputs": [
    {
     "name": "stdout",
     "output_type": "stream",
     "text": [
      "Ascending list: Ascending\n",
      "Descending list: Descending\n",
      "Unsorted list: Unsorted\n"
     ]
    }
   ],
   "source": [
    "ascending_list = [1, 2, 3, 4, 5]\n",
    "descending_list = [5, 4, 3, 2, 1]\n",
    "unsorted_list = [3, 1, 4, 2, 5]\n",
    "\n",
    "print(\"Ascending list:\", is_sorted(ascending_list))\n",
    "print(\"Descending list:\", is_sorted(descending_list))\n",
    "print(\"Unsorted list:\", is_sorted(unsorted_list))"
   ]
  },
  {
   "cell_type": "code",
   "execution_count": 24,
   "id": "584c56ab-19fe-4267-b7d9-443e8d1dd0a3",
   "metadata": {},
   "outputs": [],
   "source": [
    "#17.write a code to merge two sorted list into a single sorted list.\n",
    "def merge_sorted_lists(lst1, lst2):\n",
    "    merged_list = []\n",
    "    i = j = 0\n",
    "\n",
    "    while i < len(lst1) and j < len(lst2):\n",
    "        if lst1[i] <= lst2[j]:\n",
    "            merged_list.append(lst1[i])\n",
    "            i += 1\n",
    "        else:\n",
    "            merged_list.append(lst2[j])\n",
    "            j += 1\n",
    "    \n",
    "    merged_list.extend(lst1[i:])\n",
    "    merged_list.extend(lst2[j:])\n",
    "    \n",
    "    return merged_list    "
   ]
  },
  {
   "cell_type": "code",
   "execution_count": 25,
   "id": "a9d6fba1-022b-45a7-8b7b-09ddbcb613c8",
   "metadata": {},
   "outputs": [
    {
     "name": "stdout",
     "output_type": "stream",
     "text": [
      "Merged and sorted list: [1, 2, 3, 4, 5, 6, 7, 8, 9, 10]\n"
     ]
    }
   ],
   "source": [
    "list1 = [1, 3, 5, 7, 9]\n",
    "list2 = [2, 4, 6, 8, 10]\n",
    "\n",
    "merged_list = merge_sorted_lists(list1, list2)\n",
    "print(\"Merged and sorted list:\", merged_list)"
   ]
  },
  {
   "cell_type": "code",
   "execution_count": 29,
   "id": "019113a6-7e97-4b96-b131-7f0f2acc2e1c",
   "metadata": {},
   "outputs": [
    {
     "ename": "TypeError",
     "evalue": "'list' object is not callable",
     "output_type": "error",
     "traceback": [
      "\u001b[0;31m---------------------------------------------------------------------------\u001b[0m",
      "\u001b[0;31mTypeError\u001b[0m                                 Traceback (most recent call last)",
      "Cell \u001b[0;32mIn[29], line 8\u001b[0m\n\u001b[1;32m      6\u001b[0m set2\u001b[38;5;241m=\u001b[39m\u001b[38;5;28mset\u001b[39m(list2)\n\u001b[1;32m      7\u001b[0m final_set\u001b[38;5;241m=\u001b[39m\u001b[38;5;28mset\u001b[39m(list1)\u001b[38;5;241m&\u001b[39m\u001b[38;5;28mset\u001b[39m(list2)\n\u001b[0;32m----> 8\u001b[0m final_list\u001b[38;5;241m=\u001b[39m\u001b[38;5;28;43mlist\u001b[39;49m\u001b[43m(\u001b[49m\u001b[43mfinal_set\u001b[49m\u001b[43m)\u001b[49m\n",
      "\u001b[0;31mTypeError\u001b[0m: 'list' object is not callable"
     ]
    }
   ],
   "source": [
    "#18.write a code to find the intersection of two given list.\n",
    "#lets take an example of any two list\n",
    "list1=[1,2,3,4,5]\n",
    "list2=[3,4,5,6,7]\n",
    "set1=set(list1)\n",
    "set2=set(list2)\n",
    "final_set=set(list1)&set(list2)\n",
    "final_list=list(final_set)"
   ]
  },
  {
   "cell_type": "code",
   "execution_count": 30,
   "id": "8e753145-49a9-4760-a54a-efb479f86724",
   "metadata": {},
   "outputs": [
    {
     "ename": "NameError",
     "evalue": "name 'final_list' is not defined",
     "output_type": "error",
     "traceback": [
      "\u001b[0;31m---------------------------------------------------------------------------\u001b[0m",
      "\u001b[0;31mNameError\u001b[0m                                 Traceback (most recent call last)",
      "Cell \u001b[0;32mIn[30], line 1\u001b[0m\n\u001b[0;32m----> 1\u001b[0m \u001b[38;5;28mprint\u001b[39m(\u001b[43mfinal_list\u001b[49m)\n",
      "\u001b[0;31mNameError\u001b[0m: name 'final_list' is not defined"
     ]
    }
   ],
   "source": [
    "print(final_list)"
   ]
  },
  {
   "cell_type": "code",
   "execution_count": 31,
   "id": "280ec626-1580-49e4-8c57-c47ef76a0f34",
   "metadata": {},
   "outputs": [
    {
     "ename": "TypeError",
     "evalue": "'list' object is not callable",
     "output_type": "error",
     "traceback": [
      "\u001b[0;31m---------------------------------------------------------------------------\u001b[0m",
      "\u001b[0;31mTypeError\u001b[0m                                 Traceback (most recent call last)",
      "Cell \u001b[0;32mIn[31], line 8\u001b[0m\n\u001b[1;32m      6\u001b[0m set2\u001b[38;5;241m=\u001b[39m\u001b[38;5;28mset\u001b[39m(list2)\n\u001b[1;32m      7\u001b[0m final_set\u001b[38;5;241m=\u001b[39mset1\u001b[38;5;241m|\u001b[39mset2\n\u001b[0;32m----> 8\u001b[0m final_list\u001b[38;5;241m=\u001b[39m\u001b[38;5;28;43mlist\u001b[39;49m\u001b[43m(\u001b[49m\u001b[43mfinal_set\u001b[49m\u001b[43m)\u001b[49m\n",
      "\u001b[0;31mTypeError\u001b[0m: 'list' object is not callable"
     ]
    }
   ],
   "source": [
    "#19.Create a code to find union of two list without duplicates.\n",
    "#let take an example any two random list.\n",
    "list1=[1,2,3,4] \n",
    "list2=[3,4,5,6]\n",
    "set1=set(list1)\n",
    "set2=set(list2)\n",
    "final_set=set1|set2\n",
    "final_list=list(final_set)\n",
    "    "
   ]
  },
  {
   "cell_type": "code",
   "execution_count": 32,
   "id": "9eb2bf50-feba-4215-9f97-ef4e705d2c46",
   "metadata": {},
   "outputs": [
    {
     "data": {
      "text/plain": [
       "[2, 5, 4, 1, 3]"
      ]
     },
     "execution_count": 32,
     "metadata": {},
     "output_type": "execute_result"
    }
   ],
   "source": [
    "#20.Write a code to shuffle a given list randomly without using any in-built-shuffle functions.\n",
    "import random\n",
    "\n",
    "def shuffle_list(input_list):\n",
    "    shuffled_list = input_list[:]\n",
    "    for i in range(len(shuffled_list)-1, 0, -1):\n",
    "        j = random.randint(0, i)\n",
    "        shuffled_list[i], shuffled_list[j] = shuffled_list[j], shuffled_list[i]\n",
    "    return shuffled_list\n",
    "\n",
    " #usage\n",
    "shuffle_list([1, 2, 3, 4, 5])"
   ]
  },
  {
   "cell_type": "code",
   "execution_count": 33,
   "id": "c149cf57-1d42-4107-ba74-df88e34cfda8",
   "metadata": {},
   "outputs": [],
   "source": [
    "#21.Write a code that takes two tuples as input and return a new  tuple cointaining elements that are commom to both input tuples.\n",
    "#lets take two tuple as example\n",
    "tuple1=(1,2,3,4,5)\n",
    "tuple2=(2,3,4,5,6)\n",
    "set1=set(tuple1)\n",
    "set2=set(tuple2)\n",
    "final_set=set1&set2\n",
    "final_tuple=tuple(final_set)"
   ]
  },
  {
   "cell_type": "code",
   "execution_count": 34,
   "id": "c7c9d1a4-f25b-49e2-8c58-332ec7f7aa7c",
   "metadata": {},
   "outputs": [
    {
     "name": "stdout",
     "output_type": "stream",
     "text": [
      "(2, 3, 4, 5)\n"
     ]
    }
   ],
   "source": [
    "print(final_tuple)"
   ]
  },
  {
   "cell_type": "code",
   "execution_count": 35,
   "id": "ddb07100-de60-4f6e-b97f-0757f86c9f9e",
   "metadata": {},
   "outputs": [],
   "source": [
    "#22.Write a code that prompts a user to enter two sets of integer separated by commas then print intersection of these two sets.\n",
    "#lets take two random for example\n",
    "def final_set(input_set1,input_set2):\n",
    "    set1=set(input_set1)\n",
    "    set2=set(input_set2)\n",
    "    final_set=set1&set2\n",
    "    return final_set"
   ]
  },
  {
   "cell_type": "code",
   "execution_count": 36,
   "id": "d6abc1a7-6654-4373-ba7f-2d4de31b01a8",
   "metadata": {},
   "outputs": [
    {
     "data": {
      "text/plain": [
       "{3, 4}"
      ]
     },
     "execution_count": 36,
     "metadata": {},
     "output_type": "execute_result"
    }
   ],
   "source": [
    "final_set((1,2,3,4),(3,4,5,6))"
   ]
  },
  {
   "cell_type": "code",
   "execution_count": 37,
   "id": "6537669d-306f-439e-9753-adc83a06ca58",
   "metadata": {},
   "outputs": [],
   "source": [
    "#23.Write a code to concatenate two tuples.the function should take two tuple as input and return a new tuple cointaining elementsfrom both input tuples.\n",
    "def concatenate_tuples(tuple1, tuple2):\n",
    "    # Convert tuples to lists and concatenate them\n",
    "    concatenated_list = list(tuple1) + list(tuple2)\n",
    "    # Convert the concatenated list back to a tuple\n",
    "    concatenated_tuple = tuple(concatenated_list)\n",
    "    return concatenated_tuple"
   ]
  },
  {
   "cell_type": "code",
   "execution_count": 38,
   "id": "6c95fdae-4a4d-4606-86f6-467813f1b5a3",
   "metadata": {},
   "outputs": [
    {
     "ename": "TypeError",
     "evalue": "'list' object is not callable",
     "output_type": "error",
     "traceback": [
      "\u001b[0;31m---------------------------------------------------------------------------\u001b[0m",
      "\u001b[0;31mTypeError\u001b[0m                                 Traceback (most recent call last)",
      "Cell \u001b[0;32mIn[38], line 1\u001b[0m\n\u001b[0;32m----> 1\u001b[0m \u001b[43mconcatenate_tuples\u001b[49m\u001b[43m(\u001b[49m\u001b[43m(\u001b[49m\u001b[38;5;241;43m1\u001b[39;49m\u001b[43m,\u001b[49m\u001b[38;5;241;43m2\u001b[39;49m\u001b[43m,\u001b[49m\u001b[38;5;241;43m3\u001b[39;49m\u001b[43m,\u001b[49m\u001b[38;5;241;43m4\u001b[39;49m\u001b[43m)\u001b[49m\u001b[43m,\u001b[49m\u001b[43m(\u001b[49m\u001b[38;5;241;43m2\u001b[39;49m\u001b[43m,\u001b[49m\u001b[38;5;241;43m3\u001b[39;49m\u001b[43m,\u001b[49m\u001b[38;5;241;43m4\u001b[39;49m\u001b[43m,\u001b[49m\u001b[38;5;241;43m5\u001b[39;49m\u001b[43m)\u001b[49m\u001b[43m)\u001b[49m\n",
      "Cell \u001b[0;32mIn[37], line 4\u001b[0m, in \u001b[0;36mconcatenate_tuples\u001b[0;34m(tuple1, tuple2)\u001b[0m\n\u001b[1;32m      2\u001b[0m \u001b[38;5;28;01mdef\u001b[39;00m \u001b[38;5;21mconcatenate_tuples\u001b[39m(tuple1, tuple2):\n\u001b[1;32m      3\u001b[0m     \u001b[38;5;66;03m# Convert tuples to lists and concatenate them\u001b[39;00m\n\u001b[0;32m----> 4\u001b[0m     concatenated_list \u001b[38;5;241m=\u001b[39m \u001b[38;5;28;43mlist\u001b[39;49m\u001b[43m(\u001b[49m\u001b[43mtuple1\u001b[49m\u001b[43m)\u001b[49m \u001b[38;5;241m+\u001b[39m \u001b[38;5;28mlist\u001b[39m(tuple2)\n\u001b[1;32m      5\u001b[0m     \u001b[38;5;66;03m# Convert the concatenated list back to a tuple\u001b[39;00m\n\u001b[1;32m      6\u001b[0m     concatenated_tuple \u001b[38;5;241m=\u001b[39m \u001b[38;5;28mtuple\u001b[39m(concatenated_list)\n",
      "\u001b[0;31mTypeError\u001b[0m: 'list' object is not callable"
     ]
    }
   ],
   "source": [
    "concatenate_tuples((1,2,3,4),(2,3,4,5))"
   ]
  },
  {
   "cell_type": "code",
   "execution_count": 39,
   "id": "83cbec60-cbc3-41df-b956-e46256821665",
   "metadata": {},
   "outputs": [],
   "source": [
    "#24.Develop a code that prompts the user to input two set of strings.Print the element that are present in first set but not in second set.\n",
    "def last_string(string1,string2):\n",
    "    set1=set(string1)\n",
    "    set2=set(string2)\n",
    "    final_set=set1-set2\n",
    "    return final_set"
   ]
  },
  {
   "cell_type": "code",
   "execution_count": 40,
   "id": "3f7c746f-6a88-4c01-9974-3d453884caad",
   "metadata": {},
   "outputs": [
    {
     "data": {
      "text/plain": [
       "{'IT', 'pw_skills'}"
      ]
     },
     "execution_count": 40,
     "metadata": {},
     "output_type": "execute_result"
    }
   ],
   "source": [
    "last_string({\"pw_skills\",\"cs\",\"IT\",\"web_development\"},{\"cs\",\"web_development\",\"mathematics\"})"
   ]
  },
  {
   "cell_type": "code",
   "execution_count": 41,
   "id": "2c70dcea-1c1a-40cd-87c5-5965f9653823",
   "metadata": {},
   "outputs": [
    {
     "data": {
      "text/plain": [
       "(3, 4, 5)"
      ]
     },
     "execution_count": 41,
     "metadata": {},
     "output_type": "execute_result"
    }
   ],
   "source": [
    "#25.Create a code that takes a tuple ajnd two integers as input.The function shold return a new tuple cointaining elements from the original tuple within the specific range of indices.\n",
    "def get_subtuple(original_tuple, start_index, end_index):\n",
    "    if start_index < 0 or end_index >= len(original_tuple) or start_index > end_index:\n",
    "        return None  # Return None if indices are out of range or invalid\n",
    "    return original_tuple[start_index:end_index + 1]\n",
    "#Check\n",
    "get_subtuple((1, 2, 3, 4, 5, 6, 7, 8, 9),2,4)"
   ]
  },
  {
   "cell_type": "code",
   "execution_count": 42,
   "id": "473f7426-0e46-43fd-b5e6-ef5a9dcefd9c",
   "metadata": {},
   "outputs": [],
   "source": [
    "#26.Write a code that prompts the user to input two set of characters.then print the union of these two sets.\n",
    "def union_set(chracter1,chracter2):\n",
    "    set1=set(chracter1)\n",
    "    set2=set(chracter2)\n",
    "    union_set=set1|set2\n",
    "    return union_set\n",
    "    \n",
    "    "
   ]
  },
  {
   "cell_type": "code",
   "execution_count": 43,
   "id": "1383b047-7df3-4615-a8fc-098de3cc0303",
   "metadata": {},
   "outputs": [
    {
     "data": {
      "text/plain": [
       "{1, 2, 3, 4, 5, 6, 7, 8, 9}"
      ]
     },
     "execution_count": 43,
     "metadata": {},
     "output_type": "execute_result"
    }
   ],
   "source": [
    "union_set({1,2,3,4,5},{6,7,8,9})"
   ]
  },
  {
   "cell_type": "code",
   "execution_count": 44,
   "id": "7d56054c-37ab-4d82-98ca-bcff71b9e9f2",
   "metadata": {},
   "outputs": [],
   "source": [
    "#27.Develop a code that takes a tuple of integers as input.The fuction should return maximum and minimum values from the tuple using tuple unpacking.\n",
    "def my_tuple(integers):\n",
    "    new_tuple=tuple(integers)\n",
    "    #for maximum value\n",
    "    max(new_tuple)\n",
    "    #for minuimum value\n",
    "    min(new_tuple)\n",
    "    return max(new_tuple),min(new_tuple)"
   ]
  },
  {
   "cell_type": "code",
   "execution_count": 45,
   "id": "87e22529-a3f5-4921-a63e-a527909035f4",
   "metadata": {},
   "outputs": [
    {
     "data": {
      "text/plain": [
       "(7, 1)"
      ]
     },
     "execution_count": 45,
     "metadata": {},
     "output_type": "execute_result"
    }
   ],
   "source": [
    "my_tuple((1,2,3,4,5,6,7))"
   ]
  },
  {
   "cell_type": "code",
   "execution_count": 46,
   "id": "50cac525-3a40-4917-a720-3c08939806e6",
   "metadata": {},
   "outputs": [],
   "source": [
    "#28.Create a code that defines two set of integers.Then print union,intersection and difference of these two sets.\n",
    "def two_sets(set11,set12):\n",
    "    new_set1=set(set11)\n",
    "    new_set2=set(set12)\n",
    "    #for union of sets\n",
    "    union_set=new_set1|new_set2\n",
    "    #for intersection of sets\n",
    "    intersection_set=new_set1&new_set2\n",
    "    #for difference of two set\n",
    "    difference_set=new_set1-new_set2\n",
    "    return union_set,intersection_set,difference_set"
   ]
  },
  {
   "cell_type": "code",
   "execution_count": 47,
   "id": "cc091707-7319-4af2-ae49-1ef8f34a516c",
   "metadata": {},
   "outputs": [
    {
     "data": {
      "text/plain": [
       "({1, 2, 3, 4, 5, 6, 7, 8, 9}, {3, 4, 5, 6, 7}, {1, 2})"
      ]
     },
     "execution_count": 47,
     "metadata": {},
     "output_type": "execute_result"
    }
   ],
   "source": [
    "two_sets((1,2,3,4,5,6,7),(3,4,5,6,7,8,9))"
   ]
  },
  {
   "cell_type": "code",
   "execution_count": 48,
   "id": "8a24c547-9805-45d1-8e64-8384ed69e309",
   "metadata": {},
   "outputs": [],
   "source": [
    "#29.Write a code that takes a tuple and an element as input.The function should return the count of occurences of the given element in the tuple.\n",
    "def count_occurrences(tup, element):\n",
    "    count = 0\n",
    "    for i in tup:\n",
    "        if i == element:\n",
    "            count += 1\n",
    "    return count"
   ]
  },
  {
   "cell_type": "code",
   "execution_count": 49,
   "id": "771f729f-44b8-4c5c-b4fb-42c8a94eb50e",
   "metadata": {},
   "outputs": [
    {
     "data": {
      "text/plain": [
       "3"
      ]
     },
     "execution_count": 49,
     "metadata": {},
     "output_type": "execute_result"
    }
   ],
   "source": [
    "count_occurrences((1,2,3,4,4,4,5,5,6,6),4)"
   ]
  },
  {
   "cell_type": "code",
   "execution_count": 50,
   "id": "b287eb8b-c209-44f0-8f29-80c76685a808",
   "metadata": {},
   "outputs": [],
   "source": [
    "#30.Develop a code that prompts the user to input two sets of strings.Then,print the symmetric difference of these two sets.\n",
    "def sym_dff(set1,set2):\n",
    "    new_set1=set(set1)\n",
    "    new_set2=set(set2)\n",
    "    final_set=new_set1^new_set2\n",
    "    return final_set"
   ]
  },
  {
   "cell_type": "code",
   "execution_count": 51,
   "id": "cb5ca357-24d0-4864-888e-cf178b35702e",
   "metadata": {},
   "outputs": [
    {
     "data": {
      "text/plain": [
       "{1, 2, 6, 7}"
      ]
     },
     "execution_count": 51,
     "metadata": {},
     "output_type": "execute_result"
    }
   ],
   "source": [
    "sym_dff((1,2,3,4,5),(3,4,5,6,7))"
   ]
  },
  {
   "cell_type": "code",
   "execution_count": 52,
   "id": "ab185518-626e-42ac-83c1-2643a96738ff",
   "metadata": {},
   "outputs": [],
   "source": [
    "#31.write a code that takes a list of words as inputs and returns a dictionary where the keys are the unique words and and the values are the frequencies of those words in the input list.\n",
    "def num_words(word_dictionary):\n",
    "    new_dictionary={}\n",
    "    for i in word_dictionary:\n",
    "        if i in new_dictionary:\n",
    "            new_dictionary[i]+=1\n",
    "        else:\n",
    "            new_dictionary[i]=1\n",
    "    return new_dictionary\n"
   ]
  },
  {
   "cell_type": "code",
   "execution_count": 53,
   "id": "3c581e2a-614b-40fd-93b5-dcc1a74b1756",
   "metadata": {},
   "outputs": [
    {
     "data": {
      "text/plain": [
       "{'pwskills': 2, 'cs': 3, 'IT': 4}"
      ]
     },
     "execution_count": 53,
     "metadata": {},
     "output_type": "execute_result"
    }
   ],
   "source": [
    "num_words([\"pwskills\",\"pwskills\",\"cs\",\"cs\",\"cs\",\"IT\",\"IT\",\"IT\",\"IT\"])"
   ]
  },
  {
   "cell_type": "code",
   "execution_count": 54,
   "id": "024e1ec9-c723-4846-a093-a94be070050a",
   "metadata": {},
   "outputs": [],
   "source": [
    "#32.Write a code that takes two dictionary as input and merges them into a single dictionary.If there are common keys then values should be added together.\n",
    "def merge_dictionaries(dict1, dict2):\n",
    "    merged_dict = dict1.copy()\n",
    "    for key, value in dict2.items():\n",
    "        if key in merged_dict:\n",
    "            merged_dict[key] += value\n",
    "        else:\n",
    "            merged_dict[key] = value\n",
    "    return merged_dict"
   ]
  },
  {
   "cell_type": "code",
   "execution_count": 55,
   "id": "98a82283-a7eb-4051-96ac-ebe332bbbe6c",
   "metadata": {},
   "outputs": [
    {
     "data": {
      "text/plain": [
       "{'name': 'ankit', 'state': 'bihar'}"
      ]
     },
     "execution_count": 55,
     "metadata": {},
     "output_type": "execute_result"
    }
   ],
   "source": [
    "merge_dictionaries({\"name\":\"ankit\"},{\"state\":\"bihar\"})"
   ]
  },
  {
   "cell_type": "code",
   "execution_count": 56,
   "id": "527e58b6-15ba-4dbe-8b41-0b94e413e8ad",
   "metadata": {},
   "outputs": [],
   "source": [
    "#33.write a code to access a value in a nested dictionary.The function should take the dictionary and a list of key as input,and return the corresponding value.If any of the keys dont exist in the dictionary,the fuction should return none.\n",
    "def access_nested_dict(nested_dict, keys_list):\n",
    "    current_dict = nested_dict\n",
    "    for key in keys_list:\n",
    "        if key in current_dict:\n",
    "            current_dict = current_dict[key]\n",
    "        else:\n",
    "            return None\n",
    "    return current_dict"
   ]
  },
  {
   "cell_type": "code",
   "execution_count": 57,
   "id": "d76906de-5a4a-4b05-80cb-98d39f3ad3a2",
   "metadata": {},
   "outputs": [
    {
     "name": "stdout",
     "output_type": "stream",
     "text": [
      "Corresponding value: 2\n"
     ]
    }
   ],
   "source": [
    "nested_dictionary = {\n",
    "    'fruit': {\n",
    "        'apple': 3,\n",
    "        'banana': 2,\n",
    "        'orange': 1\n",
    "    },\n",
    "    'animal': {\n",
    "        'dog': 2,\n",
    "        'cat': 1\n",
    "    }\n",
    "}\n",
    "\n",
    "keys_to_access = ['fruit', 'banana']\n",
    "\n",
    "result = access_nested_dict(nested_dictionary, keys_to_access)\n",
    "print(\"Corresponding value:\", result)"
   ]
  },
  {
   "cell_type": "code",
   "execution_count": 58,
   "id": "45ef8cdb-11a9-4d94-a401-1dbbd5f1970e",
   "metadata": {},
   "outputs": [],
   "source": [
    "#34.write a code that takes a dictionary as input and return a sorted version of it based on the values.You can chosse whether in ascending order or desending order.\n",
    "def sort_dict_by_value(input_dict, reverse=False):\n",
    "    sorted_dict = dict(sorted(input_dict.items(), key=lambda item: item[1], reverse=reverse))\n",
    "    return sorted_dict\n",
    "\n",
    "        "
   ]
  },
  {
   "cell_type": "code",
   "execution_count": 59,
   "id": "773cf859-1d06-41a5-8f28-5ea80c04ee12",
   "metadata": {},
   "outputs": [
    {
     "data": {
      "text/plain": [
       "{'a': 1, 'c': 3, 'b': 4}"
      ]
     },
     "execution_count": 59,
     "metadata": {},
     "output_type": "execute_result"
    }
   ],
   "source": [
    "sort_dict_by_value({\"a\":1,\"b\":4,\"c\":3})"
   ]
  },
  {
   "cell_type": "code",
   "execution_count": 60,
   "id": "6d587100-c41a-454a-a0c0-56894f864e1f",
   "metadata": {},
   "outputs": [],
   "source": [
    "#35.write a code that inverts a dictionary,swapping keys and values.Ensure that the inverted dictionary correctly handles cases whare muntiple keys have the same value by storing the keys as alist in the inverted dictionary.\n",
    "def invert_dict(input_dict):\n",
    "    inverted_dict = {}\n",
    "    for key, value in input_dict.items():\n",
    "        if value not in inverted_dict:\n",
    "            inverted_dict[value] = [key]\n",
    "        else:\n",
    "            inverted_dict[value].append(key)\n",
    "    return inverted_dict"
   ]
  },
  {
   "cell_type": "code",
   "execution_count": 61,
   "id": "75ea34f4-5587-4e4d-9a2b-81a5d73fe204",
   "metadata": {},
   "outputs": [
    {
     "data": {
      "text/plain": [
       "{1: ['a', 'c'], 2: ['b'], 3: ['d']}"
      ]
     },
     "execution_count": 61,
     "metadata": {},
     "output_type": "execute_result"
    }
   ],
   "source": [
    "invert_dict({'a': 1, 'b': 2, 'c': 1, 'd': 3})"
   ]
  },
  {
   "cell_type": "code",
   "execution_count": 62,
   "id": "7dd5ada2-092a-4390-b305-0f15cd5fb832",
   "metadata": {},
   "outputs": [
    {
     "data": {
      "text/plain": [
       "{1: ['a', 'c'], 2: ['b'], 3: ['d']}"
      ]
     },
     "execution_count": 62,
     "metadata": {},
     "output_type": "execute_result"
    }
   ],
   "source": [
    "{1: ['a', 'c'], 2: ['b'], 3: ['d']}"
   ]
  },
  {
   "cell_type": "code",
   "execution_count": null,
   "id": "02febaff-c0ec-4263-a2c4-00852b23b28c",
   "metadata": {},
   "outputs": [],
   "source": []
  }
 ],
 "metadata": {
  "kernelspec": {
   "display_name": "Python 3 (ipykernel)",
   "language": "python",
   "name": "python3"
  },
  "language_info": {
   "codemirror_mode": {
    "name": "ipython",
    "version": 3
   },
   "file_extension": ".py",
   "mimetype": "text/x-python",
   "name": "python",
   "nbconvert_exporter": "python",
   "pygments_lexer": "ipython3",
   "version": "3.10.8"
  }
 },
 "nbformat": 4,
 "nbformat_minor": 5
}
